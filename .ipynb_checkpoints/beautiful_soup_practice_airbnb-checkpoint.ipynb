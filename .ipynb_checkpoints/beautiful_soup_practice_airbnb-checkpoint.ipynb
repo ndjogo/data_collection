{
 "cells": [
  {
   "cell_type": "markdown",
   "id": "5528c6a2",
   "metadata": {},
   "source": [
    "# Airbnb Data Scraping "
   ]
  },
  {
   "cell_type": "code",
   "execution_count": 1,
   "id": "6f950312",
   "metadata": {},
   "outputs": [],
   "source": [
    "url = 'https://www.airbnb.co.uk/s/Italy/homes?tab_id=home_tab&refinement_paths%5B%5D=%2Fhomes&flexible_trip_lengths%5B%5D=one_week&price_filter_input_type=0&price_filter_num_nights=5&query=Italy&place_id=ChIJA9KNRIL-1BIRb15jJFz1LOI&date_picker_type=calendar&source=structured_search_input_header&search_type=autocomplete_click'"
   ]
  },
  {
   "cell_type": "code",
   "execution_count": 2,
   "id": "d0362040",
   "metadata": {},
   "outputs": [],
   "source": [
    "import requests \n",
    "from bs4 import BeautifulSoup "
   ]
  },
  {
   "cell_type": "code",
   "execution_count": 7,
   "id": "11292b66",
   "metadata": {},
   "outputs": [],
   "source": [
    "def open_url(url): \n",
    "    return BeautifulSoup(requests.get(url).text, \"html.parser\")"
   ]
  },
  {
   "cell_type": "code",
   "execution_count": 15,
   "id": "6424b705",
   "metadata": {},
   "outputs": [],
   "source": [
    "def scrape_packages(url):\n",
    "    page = open_url(url)\n",
    "    packages = page.find_all(\"div\", _class = 'c4mnd7m~dir~dir-ltr')\n",
    "    return packages\n",
    "    \n",
    "    "
   ]
  },
  {
   "cell_type": "code",
   "execution_count": 16,
   "id": "d67ba052",
   "metadata": {},
   "outputs": [
    {
     "data": {
      "text/plain": [
       "[]"
      ]
     },
     "execution_count": 16,
     "metadata": {},
     "output_type": "execute_result"
    }
   ],
   "source": [
    "scrape_packages(url)"
   ]
  },
  {
   "cell_type": "code",
   "execution_count": null,
   "id": "69bdcfd9",
   "metadata": {},
   "outputs": [],
   "source": []
  }
 ],
 "metadata": {
  "kernelspec": {
   "display_name": "Python 3 (ipykernel)",
   "language": "python",
   "name": "python3"
  },
  "language_info": {
   "codemirror_mode": {
    "name": "ipython",
    "version": 3
   },
   "file_extension": ".py",
   "mimetype": "text/x-python",
   "name": "python",
   "nbconvert_exporter": "python",
   "pygments_lexer": "ipython3",
   "version": "3.9.13"
  }
 },
 "nbformat": 4,
 "nbformat_minor": 5
}
