{
 "cells": [
  {
   "cell_type": "markdown",
   "id": "5528c6a2",
   "metadata": {},
   "source": [
    "# Airbnb Data Scraping "
   ]
  },
  {
   "cell_type": "code",
   "execution_count": 53,
   "id": "6f950312",
   "metadata": {},
   "outputs": [],
   "source": [
    "url = 'https://www.airbnb.co.uk/s/Italy/homes?tab_id=home_tab&refinement_paths%5B%5D=%2Fhomes&flexible_trip_lengths%5B%5D=one_week&price_filter_input_type=0&price_filter_num_nights=5&query=Italy&place_id=ChIJA9KNRIL-1BIRb15jJFz1LOI&date_picker_type=calendar&source=structured_search_input_header&search_type=autocomplete_click'"
   ]
  },
  {
   "cell_type": "code",
   "execution_count": 54,
   "id": "d0362040",
   "metadata": {},
   "outputs": [],
   "source": [
    "import requests \n",
    "from bs4 import BeautifulSoup "
   ]
  },
  {
   "cell_type": "code",
   "execution_count": 55,
   "id": "11292b66",
   "metadata": {},
   "outputs": [],
   "source": [
    "def open_url(url): \n",
    "    return BeautifulSoup(requests.get(url).text, \"html.parser\")\n",
    "\n",
    "page = open_url(url)\n"
   ]
  },
  {
   "cell_type": "code",
   "execution_count": 56,
   "id": "6424b705",
   "metadata": {},
   "outputs": [],
   "source": [
    "def scrape_package_title(page):\n",
    "    packages = page.find_all(attrs={'class': 't1jojoys'})\n",
    "    packages = [package.get_text() for package in packages]\n",
    "    return packages\n",
    "\n"
   ]
  },
  {
   "cell_type": "code",
   "execution_count": 57,
   "id": "d67ba052",
   "metadata": {},
   "outputs": [
    {
     "data": {
      "text/plain": [
       "['Holiday home in Varenna',\n",
       " 'Villa in Campo',\n",
       " 'Farm stay in Montepulciano',\n",
       " 'Home in Florence',\n",
       " 'Home in Pari',\n",
       " 'Villa in Paestum-Giungano',\n",
       " 'Flat in Kaukana',\n",
       " 'Castle in Tuscania (VT)',\n",
       " 'Home in Cerreto Guidi',\n",
       " 'Tower in Gombola',\n",
       " 'Villa in Capobianco',\n",
       " 'Guest suite in Torri del Benaco',\n",
       " 'Trullo in Locorotondo',\n",
       " 'Villa in Lotzorai',\n",
       " 'Flat in Blevio',\n",
       " 'Farm stay in Barga',\n",
       " 'Villa in Pollina',\n",
       " 'Private room in Tuscania']"
      ]
     },
     "execution_count": 57,
     "metadata": {},
     "output_type": "execute_result"
    }
   ],
   "source": [
    "scrape_package_title(page)\n"
   ]
  },
  {
   "cell_type": "code",
   "execution_count": 65,
   "id": "69bdcfd9",
   "metadata": {},
   "outputs": [],
   "source": [
    "def scrape_package_description(page):\n",
    "    packages = page.find_all(attrs={'class': 't6mzqp7 dir dir-ltr'})\n",
    "    packages = [package.get_text() for package in packages]\n",
    "    return packages"
   ]
  },
  {
   "cell_type": "code",
   "execution_count": 66,
   "id": "e6b02670",
   "metadata": {},
   "outputs": [
    {
     "data": {
      "text/plain": [
       "['Small natural house on the lake',\n",
       " 'Peaceful country villa 10  far from Pisa town',\n",
       " 'Rural Tuscany | Winefarm with pool | Casa Violetta',\n",
       " \"Splendida Casa sull'Albero a Pochi Minuti da Firenze\",\n",
       " 'Podere Vignali',\n",
       " 'Entire Villa, Cilento Paestum  for 28 p!',\n",
       " 'Amarillis, beachfront accommodation in Caucana',\n",
       " 'San Giusto Abbey { medieval Tower }',\n",
       " 'Casa del Giardino',\n",
       " 'Tower house Gombola',\n",
       " 'Villa Sabbie Rosse 6+2, Emma Villas',\n",
       " 'Lake Garda luxury studio with pool',\n",
       " 'Trulli Suite 2P with Private Jacuzzi',\n",
       " 'SARA VILLA WITH HEATED POOL',\n",
       " 'Lake Como Lights with lake view balcony',\n",
       " 'PURE Farmhouse - Charme Design House in Tuscany',\n",
       " 'Romantic and one-of-a-kind Beachouse',\n",
       " 'Panoramic views on organic farm - room 4']"
      ]
     },
     "execution_count": 66,
     "metadata": {},
     "output_type": "execute_result"
    }
   ],
   "source": [
    "scrape_package_description(page)"
   ]
  },
  {
   "cell_type": "code",
   "execution_count": 60,
   "id": "e48eff07",
   "metadata": {},
   "outputs": [],
   "source": [
    "def scrape_package_rating(page):\n",
    "    packages = page.find_all(attrs={'class': 't5eq1io'})\n",
    "    packages = [package.get_text() for package in packages]\n",
    "    return packages"
   ]
  },
  {
   "cell_type": "code",
   "execution_count": 61,
   "id": "58c19c90",
   "metadata": {},
   "outputs": [
    {
     "data": {
      "text/plain": [
       "['4.94 (372)',\n",
       " '4.86 (51)',\n",
       " '4.33 (9)',\n",
       " '4.88 (635)',\n",
       " 'New',\n",
       " '4.8 (5)',\n",
       " '4.71 (14)',\n",
       " '4.99 (318)',\n",
       " '4.95 (349)',\n",
       " '4.88 (43)',\n",
       " '4.97 (181)',\n",
       " '4.86 (182)',\n",
       " '4.89 (71)',\n",
       " '4.84 (122)',\n",
       " '5.0 (60)',\n",
       " '4.86 (43)',\n",
       " '4.71 (21)']"
      ]
     },
     "execution_count": 61,
     "metadata": {},
     "output_type": "execute_result"
    }
   ],
   "source": [
    "scrape_package_rating(page)"
   ]
  },
  {
   "cell_type": "code",
   "execution_count": 62,
   "id": "1116ed90",
   "metadata": {},
   "outputs": [],
   "source": [
    "def scrape_package_price(page):\n",
    "    packages = page.find_all(attrs={'class': '_1jo4hgw'})\n",
    "    packages = [package.get_text().replace('\\xa0night', '').split('\\xa0')[-1] for package in packages]\n",
    "    # try:\n",
    "        # for package in packages\n",
    "    return packages"
   ]
  },
  {
   "cell_type": "code",
   "execution_count": 63,
   "id": "b1eeaca2",
   "metadata": {},
   "outputs": [
    {
     "data": {
      "text/plain": [
       "['£244',\n",
       " '£530',\n",
       " '£98',\n",
       " '£262',\n",
       " '£243',\n",
       " '£66',\n",
       " '£101',\n",
       " '£202',\n",
       " '£86',\n",
       " '£146',\n",
       " '£317',\n",
       " '£206',\n",
       " '£123',\n",
       " '£179',\n",
       " '£119',\n",
       " '£190',\n",
       " '£118',\n",
       " '£84']"
      ]
     },
     "execution_count": 63,
     "metadata": {},
     "output_type": "execute_result"
    }
   ],
   "source": [
    "scrape_package_price(page)"
   ]
  },
  {
   "cell_type": "code",
   "execution_count": 67,
   "id": "f96ea2de",
   "metadata": {},
   "outputs": [],
   "source": [
    "def scrape_package_duration(page):\n",
    "    packages = page.find_all(attrs={'class': 'f15liw5s s1cjsi4j dir dir-ltr'})\n",
    "    packages = [package.get_text() for package in packages]\n",
    "    return packages"
   ]
  },
  {
   "cell_type": "code",
   "execution_count": 68,
   "id": "37c2939d",
   "metadata": {},
   "outputs": [
    {
     "data": {
      "text/plain": [
       "['Individual Host',\n",
       " '9–14 Feb',\n",
       " 'Individual Host',\n",
       " '19–24 Mar',\n",
       " 'Professional Host',\n",
       " '1–6 Apr',\n",
       " 'Individual Host',\n",
       " '13–18 Feb',\n",
       " 'Professional Host',\n",
       " '3–8 Jun',\n",
       " 'Professional Host',\n",
       " '25–30 Mar',\n",
       " 'Professional Host',\n",
       " '6–12 Apr',\n",
       " 'Professional Host',\n",
       " '24–29 Jan',\n",
       " 'Individual Host',\n",
       " '30 Jan – 4 Feb',\n",
       " 'Individual Host',\n",
       " '22–27 Jan',\n",
       " 'Professional Host',\n",
       " '21–27 Jan',\n",
       " 'Individual Host',\n",
       " '1–6 May',\n",
       " 'Professional Host',\n",
       " '1–6 Apr',\n",
       " 'Individual Host',\n",
       " '19–24 Jan',\n",
       " 'Individual Host',\n",
       " '22–27 Jan',\n",
       " 'Professional Host',\n",
       " '26–31 Jan',\n",
       " 'Individual Host',\n",
       " '22–28 Jan',\n",
       " 'Professional Host',\n",
       " '13–18 Feb']"
      ]
     },
     "execution_count": 68,
     "metadata": {},
     "output_type": "execute_result"
    }
   ],
   "source": [
    "scrape_package_duration(page)"
   ]
  },
  {
   "cell_type": "code",
   "execution_count": null,
   "id": "478a22d8",
   "metadata": {},
   "outputs": [],
   "source": []
  }
 ],
 "metadata": {
  "kernelspec": {
   "display_name": "Python 3 (ipykernel)",
   "language": "python",
   "name": "python3"
  },
  "language_info": {
   "codemirror_mode": {
    "name": "ipython",
    "version": 3
   },
   "file_extension": ".py",
   "mimetype": "text/x-python",
   "name": "python",
   "nbconvert_exporter": "python",
   "pygments_lexer": "ipython3",
   "version": "3.9.13"
  }
 },
 "nbformat": 4,
 "nbformat_minor": 5
}
