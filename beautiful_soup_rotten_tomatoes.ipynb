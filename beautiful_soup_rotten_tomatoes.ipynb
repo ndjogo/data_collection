{
 "cells": [
  {
   "cell_type": "code",
   "execution_count": 1,
   "id": "40a951f1",
   "metadata": {},
   "outputs": [],
   "source": [
    "url = 'https://www.rottentomatoes.com/browse/movies_at_home/genres:horror?page='"
   ]
  },
  {
   "cell_type": "code",
   "execution_count": 2,
   "id": "a55fc7be",
   "metadata": {},
   "outputs": [],
   "source": [
    "import requests \n",
    "from bs4 import BeautifulSoup "
   ]
  },
  {
   "cell_type": "code",
   "execution_count": 46,
   "id": "5949a7c2",
   "metadata": {},
   "outputs": [],
   "source": [
    "class RottenTomatoesScraper(): \n",
    "    def __init__(self,url, num_pages): \n",
    "        self.url = url + str(num_pages)\n",
    "        self.num_pages = num_pages\n",
    "        self.page = BeautifulSoup(requests.get(self.url).text, \"html.parser\")\n",
    "        self.movie_links = []\n",
    "        for i in self.page.find_all(attrs={'class':'js-tile-link'}):\n",
    "            try: \n",
    "                self.movie_links.append('https://www.rottentomatoes.com' + str(i.attrs['href']))\n",
    "            except: \n",
    "                pass \n",
    "    \n",
    "    def scrape_movie_data(self):\n",
    "        for movie_link in self.movie_links: \n",
    "            movie = BeautifulSoup(requests.get(movie_link).text, \"html.parser\")\n",
    "            print(movie)\n",
    "            critics_score = movie.find_all(attrs={ 'class':'score-board-wrap'})\n",
    "            print(critics_score)\n",
    "            break \n",
    "            \n",
    "            \n",
    "\n",
    "    def scrape_movie_scores(self):\n",
    "        print([item.text for item in self.page.find_all(attrs={'data-qa':'discovery-media-list-item-caption'})])\n",
    "#             try: \n",
    "#                 self.movie_links.append('https://www.rottentomatoes.com' + str(i.attrs['href']))\n",
    "#             except: \n",
    "#                 pass \n",
    "        \n",
    "    \n",
    "        \n",
    "\n",
    "        "
   ]
  },
  {
   "cell_type": "code",
   "execution_count": 47,
   "id": "9589c791",
   "metadata": {},
   "outputs": [],
   "source": [
    "scraper_object = RottenTomatoesScraper('https://www.rottentomatoes.com/browse/movies_at_home/genres:horror?page=', 2)      "
   ]
  },
  {
   "cell_type": "code",
   "execution_count": 48,
   "id": "93ace3a5",
   "metadata": {},
   "outputs": [
    {
     "name": "stdout",
     "output_type": "stream",
     "text": [
      "['', '\\n\\n\\n\\r\\n            The Ghosts of Monday\\r\\n        \\n\\r\\n            Streaming Jan 23, 2023 \\r\\n          \\n', '\\n\\n\\n\\r\\n            M3GAN\\r\\n        \\n\\r\\n            Streaming Jan 24, 2023 \\r\\n          \\n', '\\n\\n\\n\\r\\n            The Menu\\r\\n        \\n\\r\\n            Streaming Jan 3, 2023 \\r\\n          \\n', \"\\n\\n\\n\\r\\n            There's Something Wrong with the Children\\r\\n        \\n\\r\\n            Streaming Jan 17, 2023 \\r\\n          \\n\", '\\n\\n\\n\\r\\n            Vengeance\\r\\n        \\n\\r\\n            Streaming Sep 16, 2022 \\r\\n          \\n', '\\n\\n\\n\\r\\n            Sick\\r\\n        \\n\\r\\n            Streaming Jan 13, 2023 \\r\\n          \\n', '\\n\\n\\n\\r\\n            White Noise\\r\\n        \\n\\r\\n            Streaming Dec 30, 2022 \\r\\n          \\n', '\\n\\n\\n\\r\\n            The Offering\\r\\n        \\n\\r\\n            Streaming Jan 13, 2023 \\r\\n          \\n', '\\n\\n\\n\\r\\n            X\\r\\n        \\n\\r\\n            Streaming Apr 14, 2022 \\r\\n          \\n', '\\n\\n\\n\\r\\n            Barbarian\\r\\n        \\n\\r\\n            Streaming Oct 25, 2022 \\r\\n          \\n', '\\n\\n\\n\\r\\n            Sorry About the Demon\\r\\n        \\n\\r\\n            Streaming Jan 19, 2023 \\r\\n          \\n', '\\n\\n\\n\\r\\n            Nope\\r\\n        \\n\\r\\n            Streaming Nov 18, 2022 \\r\\n          \\n', '\\n\\n\\n\\r\\n            The Innocents\\r\\n        \\n\\r\\n            Streaming May 13, 2022 \\r\\n          \\n', '\\n\\n\\n\\r\\n            Hellbender\\r\\n        \\n\\r\\n            Streaming Feb 24, 2022 \\r\\n          \\n', '\\n\\n\\n\\r\\n            Smile\\r\\n        \\n\\r\\n            Streaming Nov 15, 2022 \\r\\n          \\n', '\\n\\n\\n\\r\\n            Hereditary\\r\\n        \\n\\r\\n            Streaming Aug 21, 2018 \\r\\n          \\n', '\\n\\n\\n\\r\\n            Pearl\\r\\n        \\n\\r\\n            Streaming Oct 25, 2022 \\r\\n          \\n', '\\n\\n\\n\\r\\n            His House\\r\\n        \\n\\r\\n            Streaming Oct 30, 2020 \\r\\n          \\n', '\\n\\n\\n\\r\\n            Sissy\\r\\n        \\n\\r\\n            Streaming Sep 29, 2022 \\r\\n          \\n', '\\n\\n\\n\\r\\n            Snow Falls\\r\\n        \\n\\r\\n            Streaming Jan 17, 2023 \\r\\n          \\n', '\\n\\n\\n\\r\\n            Men\\r\\n        \\n\\r\\n            Streaming Aug 9, 2022 \\r\\n          \\n', '\\n\\n\\n\\r\\n            Prey for the Devil\\r\\n        \\n\\r\\n            Streaming Dec 13, 2022 \\r\\n          \\n', '\\n\\n\\n\\r\\n            Kids vs. Aliens\\r\\n        \\n\\r\\n            Streaming Jan 20, 2023 \\r\\n          \\n', \"\\n\\n\\n\\r\\n            You Won't Be Alone\\r\\n        \\n\\r\\n            Streaming May 16, 2022 \\r\\n          \\n\", '\\n\\n\\n\\r\\n            It Follows\\r\\n        \\n\\r\\n            Streaming Nov 30, 2016 \\r\\n          \\n', '\\n\\n\\n\\r\\n            Doctor Strange in the Multiverse of Madness\\r\\n        \\n\\r\\n            Streaming Jun 22, 2022 \\r\\n          \\n', '\\n\\n\\n\\r\\n            Nanny\\r\\n        \\n\\r\\n            Streaming Dec 16, 2022 \\r\\n          \\n', '\\n\\n\\n\\r\\n            Speak No Evil\\r\\n        \\n\\r\\n            Streaming Sep 15, 2022 \\r\\n          \\n', '\\n\\n\\n\\r\\n            Candy Land\\r\\n        \\n\\r\\n            Streaming Jan 6, 2023 \\r\\n          \\n', '\\n\\n\\n\\r\\n            Get Out\\r\\n        \\n\\r\\n            Streaming May 9, 2017 \\r\\n          \\n', '\\n\\n\\n\\r\\n            A Quiet Place Part II\\r\\n        \\n\\r\\n            Streaming Jul 13, 2021 \\r\\n          \\n', '\\n\\n\\n\\r\\n            Possessor: Uncut\\r\\n        \\n\\r\\n            Streaming Nov 3, 2020 \\r\\n          \\n', '\\n\\n\\n\\r\\n            House of Darkness\\r\\n        \\n\\r\\n            Streaming Sep 13, 2022 \\r\\n          \\n', '\\n\\n\\n\\r\\n            A Wounded Fawn\\r\\n        \\n\\r\\n            Streaming Dec 1, 2022 \\r\\n          \\n', '\\n\\n\\n\\r\\n            Under the Shadow\\r\\n        \\n\\r\\n            Streaming Jan 17, 2017 \\r\\n          \\n', '\\n\\n\\n\\r\\n            Alone at Night\\r\\n        \\n\\r\\n            Streaming Jan 20, 2023 \\r\\n          \\n', \"\\n\\n\\n\\r\\n            I'm Thinking of Ending Things\\r\\n        \\n\\r\\n            Streaming Sep 4, 2020 \\r\\n          \\n\", \"\\n\\n\\n\\r\\n            We're All Going to the World's Fair\\r\\n        \\n\\r\\n            Streaming Apr 22, 2022 \\r\\n          \\n\", '\\n\\n\\n\\r\\n            American Psycho\\r\\n        \\n\\r\\n            Streaming Jan 13, 2015 \\r\\n          \\n', '\\n\\n\\n\\r\\n            Something In The Dirt\\r\\n        \\n\\r\\n            Streaming Nov 22, 2022 \\r\\n          \\n', '\\n\\n\\n\\r\\n            Midsommar\\r\\n        \\n\\r\\n            Streaming Sep 24, 2019 \\r\\n          \\n', '\\n\\n\\n\\r\\n            Old\\r\\n        \\n\\r\\n            Streaming Oct 4, 2021 \\r\\n          \\n', '\\n\\n\\n\\r\\n            Soft & Quiet\\r\\n        \\n\\r\\n            Streaming Nov 4, 2022 \\r\\n          \\n', '\\n\\n\\n\\r\\n            Fresh\\r\\n        \\n\\r\\n            Streaming Mar 4, 2022 \\r\\n          \\n', '\\n\\n\\n\\r\\n            Piggy\\r\\n        \\n\\r\\n            Streaming Oct 14, 2022 \\r\\n          \\n', '\\n\\n\\n\\r\\n            The Cabin in the Woods\\r\\n        \\n\\r\\n            Streaming May 6, 2014 \\r\\n          \\n', '\\n\\n\\n\\r\\n            Saloum\\r\\n        \\n\\r\\n            Streaming Sep 8, 2022 \\r\\n          \\n', '\\n\\n\\n\\r\\n            A Quiet Place\\r\\n        \\n\\r\\n            Streaming Jun 26, 2018 \\r\\n          \\n', '\\n\\n\\n\\r\\n            XX\\r\\n        \\n\\r\\n            Streaming Feb 17, 2017 \\r\\n          \\n', '\\n\\n\\n\\r\\n            The Conjuring: The Devil Made Me Do It\\r\\n        \\n\\r\\n            Streaming Jun 4, 2021 \\r\\n          \\n', '\\n\\n\\n\\r\\n            Malignant\\r\\n        \\n\\r\\n            Streaming Sep 10, 2021 \\r\\n          \\n', '\\n\\n\\n\\r\\n            Halloween Ends\\r\\n        \\n\\r\\n            Streaming Oct 14, 2022 \\r\\n          \\n', '\\n\\n\\n\\r\\n            Beast\\r\\n        \\n\\r\\n            Streaming Oct 7, 2022 \\r\\n          \\n', '\\n\\n\\n\\r\\n            Train to Busan\\r\\n        \\n\\r\\n            Streaming Dec 6, 2016 \\r\\n          \\n', '\\n\\n\\n\\r\\n            Deadstream\\r\\n        \\n\\r\\n            Streaming Oct 6, 2022 \\r\\n          \\n', '\\n\\n\\n\\r\\n            1922\\r\\n        \\n\\r\\n            Streaming Oct 20, 2017 \\r\\n          \\n', '\\n\\n\\n\\r\\n            Ready or Not\\r\\n        \\n\\r\\n            Streaming Aug 27, 2019 \\r\\n          \\n', '\\n\\n\\n\\r\\n            Bring It On: Cheer or Die\\r\\n        \\n\\r\\n            Streaming Oct 8, 2022 \\r\\n          \\n', '\\n\\n\\n\\r\\n            Werewolf by Night\\r\\n        \\n\\r\\n            Streaming Oct 7, 2022 \\r\\n          \\n', '\\n\\n\\n\\r\\n            The Empty Man\\r\\n        \\n\\r\\n            Streaming Jan 10, 2021 \\r\\n          \\n']\n"
     ]
    }
   ],
   "source": [
    "scraper_object.scrape_movie_scores()"
   ]
  },
  {
   "cell_type": "code",
   "execution_count": null,
   "id": "b1919b51",
   "metadata": {},
   "outputs": [],
   "source": []
  }
 ],
 "metadata": {
  "kernelspec": {
   "display_name": "Python 3 (ipykernel)",
   "language": "python",
   "name": "python3"
  },
  "language_info": {
   "codemirror_mode": {
    "name": "ipython",
    "version": 3
   },
   "file_extension": ".py",
   "mimetype": "text/x-python",
   "name": "python",
   "nbconvert_exporter": "python",
   "pygments_lexer": "ipython3",
   "version": "3.9.13"
  }
 },
 "nbformat": 4,
 "nbformat_minor": 5
}
