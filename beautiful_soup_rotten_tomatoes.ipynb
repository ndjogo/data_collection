{
 "cells": [
  {
   "cell_type": "code",
   "execution_count": 1,
   "id": "40a951f1",
   "metadata": {},
   "outputs": [],
   "source": [
    "url = 'https://www.rottentomatoes.com/browse/movies_at_home/genres:horror?page='"
   ]
  },
  {
   "cell_type": "code",
   "execution_count": 2,
   "id": "a55fc7be",
   "metadata": {},
   "outputs": [],
   "source": [
    "import requests \n",
    "from bs4 import BeautifulSoup "
   ]
  },
  {
   "cell_type": "code",
   "execution_count": null,
   "id": "5949a7c2",
   "metadata": {},
   "outputs": [],
   "source": [
    "class RottenTomatoesScraper(): \n",
    "    def __init__(self,url, num_pages): \n",
    "        self.url = url + str(num_pages)\n",
    "        self.num_pages = num_pages\n",
    "        self.page = BeautifulSoup(requests.get(url).text, \"html.parser\")\n",
    "        self.movie_links = ['https://www.rottentomatoes.com/' + item.attrs['href'] for item in page.find_all(attrs={'class':'js-tile-link'})]   \n",
    "        \n",
    "        \n",
    "        "
   ]
  }
 ],
 "metadata": {
  "kernelspec": {
   "display_name": "Python 3 (ipykernel)",
   "language": "python",
   "name": "python3"
  },
  "language_info": {
   "codemirror_mode": {
    "name": "ipython",
    "version": 3
   },
   "file_extension": ".py",
   "mimetype": "text/x-python",
   "name": "python",
   "nbconvert_exporter": "python",
   "pygments_lexer": "ipython3",
   "version": "3.9.13"
  }
 },
 "nbformat": 4,
 "nbformat_minor": 5
}
