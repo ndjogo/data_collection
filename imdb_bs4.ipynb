{
 "cells": [
  {
   "cell_type": "code",
   "execution_count": 1,
   "id": "53e42766",
   "metadata": {},
   "outputs": [],
   "source": [
    "import requests \n",
    "from bs4 import BeautifulSoup \n",
    "import pandas as pd"
   ]
  },
  {
   "cell_type": "code",
   "execution_count": 2,
   "id": "5acec005",
   "metadata": {},
   "outputs": [],
   "source": [
    "class IMDBScraper():\n",
    "    def __init__(self, page_num):\n",
    "        self.urls = {}\n",
    "        self.pages = {}\n",
    "        self.movie_info = {}\n",
    "        self.movies_dataframe = pd.DataFrame()\n",
    "        self.movie_links = {}\n",
    "        self.page_num = page_num\n",
    "        \n",
    "        i = 0 \n",
    "        for page in range(1,50*page_num + 1,50):\n",
    "            i += 1 \n",
    "            self.urls[\"page_num: {}\".format(i)] = 'https://www.imdb.com/search/title/?genres=horror&start={}&explore=title_type,genres&ref_=adv_nxt'.format(page)\n",
    "            self.pages[\"page_num: {}\".format(i)] = BeautifulSoup(requests.get(self.urls[\"page_num: {}\".format(i)]).text, \"html.parser\") \n",
    "            self.movie_links[\"page_num: {}\".format(i)] = ['https://www.imdb.com' + item.find_all('a')[0].attrs['href'] for item in self.pages[\"page_num: {}\".format(i)].find_all(attrs={'class':'lister-item-header'})]\n",
    "            \n",
    "\n",
    "           \n",
    "    def get_movie_info(self):\n",
    "        for page_num, page in self.pages.items():\n",
    "            if \"movie_title\" in self.movie_info: \n",
    "                pass\n",
    "            else: \n",
    "                self.movie_info[\"movie_title\"] = [item.text.split('\\n')[2] for item in page.find_all(attrs={ 'class':'lister-item-header'})]\n",
    "                self.movie_info[\"release_year\"] = [item.text.split('\\n')[3] for item in page.find_all(attrs={ 'class':'lister-item-header'})]\n",
    "                self.movie_info[\"certificate\"] = [item.text for item in page.find_all(attrs={ 'class':'certificate'})]\n",
    "                \n",
    "                \n",
    "                \n",
    "                \n",
    "        self.movies_dataframe[\"movie_title\"] = self.movie_info[\"movie_title\"]\n",
    "        self.movies_dataframe[\"release_year\"] = self.movie_info[\"release_year\"]\n",
    "        self.movies_dataframe[\"certificate\"] = self.movie_info[\"certificate\"]\n",
    "        \n",
    "#     def scrape_movie_link(self):\n",
    "#         i = 0 \n",
    "#         for page in range(1,50*self.page_num + 1,50):\n",
    "#             i += 1 \n",
    "#             for movie in self.movie_links[\"page_num: {}\".format(i)]:\n",
    "#                 print(movie)\n",
    "#                 movie_page = BeautifulSoup(requests.get(movie).text, \"html.parser\")\n",
    "#                 print(movie_page)\n",
    "                \n",
    "                \n",
    "        \n",
    "        \n",
    "    "
   ]
  },
  {
   "cell_type": "code",
   "execution_count": 3,
   "id": "1730f3c1",
   "metadata": {
    "scrolled": true
   },
   "outputs": [
    {
     "data": {
      "text/plain": [
       "50"
      ]
     },
     "execution_count": 3,
     "metadata": {},
     "output_type": "execute_result"
    }
   ],
   "source": [
    "scraper_object = IMDBScraper(3)\n",
    "\n",
    "#scraper_object.urls\n",
    "#scraper_object.pages \n",
    "#scraper_object.get_movie_info()\n",
    "#scraper_object.movies_dataframe\n",
    "len(list(scraper_object.movie_links.values())[2])\n"
   ]
  },
  {
   "cell_type": "code",
   "execution_count": 4,
   "id": "381b1079",
   "metadata": {},
   "outputs": [
    {
     "name": "stdout",
     "output_type": "stream",
     "text": [
      "['https://www.imdb.com/title/tt3581920/', 'https://www.imdb.com/title/tt15679400/', 'https://www.imdb.com/title/tt9764362/', 'https://www.imdb.com/title/tt1520211/', 'https://www.imdb.com/title/tt13802576/', 'https://www.imdb.com/title/tt8760708/', 'https://www.imdb.com/title/tt13051810/', 'https://www.imdb.com/title/tt10365998/', 'https://www.imdb.com/title/tt17663992/', 'https://www.imdb.com/title/tt4574334/', 'https://www.imdb.com/title/tt14138650/', 'https://www.imdb.com/title/tt0460681/', 'https://www.imdb.com/title/tt13560574/', 'https://www.imdb.com/title/tt19623240/', 'https://www.imdb.com/title/tt15428778/', 'https://www.imdb.com/title/tt15487922/', 'https://www.imdb.com/title/tt13280054/', 'https://www.imdb.com/title/tt2560140/', 'https://www.imdb.com/title/tt8068860/', 'https://www.imdb.com/title/tt21307994/', 'https://www.imdb.com/title/tt2140553/', 'https://www.imdb.com/title/tt11041332/', 'https://www.imdb.com/title/tt1844624/', 'https://www.imdb.com/title/tt15791034/', 'https://www.imdb.com/title/tt18925334/', 'https://www.imdb.com/title/tt15474916/', 'https://www.imdb.com/title/tt3743822/', 'https://www.imdb.com/title/tt10954984/', 'https://www.imdb.com/title/tt1405406/', 'https://www.imdb.com/title/tt1751634/', 'https://www.imdb.com/title/tt14121726/', 'https://www.imdb.com/title/tt10168670/', 'https://www.imdb.com/title/tt14852808/', 'https://www.imdb.com/title/tt11245972/', 'https://www.imdb.com/title/tt0144084/', 'https://www.imdb.com/title/tt4589218/', 'https://www.imdb.com/title/tt10954652/', 'https://www.imdb.com/title/tt8772262/', 'https://www.imdb.com/title/tt7144666/', 'https://www.imdb.com/title/tt3427252/', 'https://www.imdb.com/title/tt8415836/', 'https://www.imdb.com/title/tt7784604/', 'https://www.imdb.com/title/tt6160448/', 'https://www.imdb.com/title/tt7908628/', 'https://www.imdb.com/title/tt9813792/', 'https://www.imdb.com/title/tt15676664/', 'https://www.imdb.com/title/tt6298000/', 'https://www.imdb.com/title/tt10403420/', 'https://www.imdb.com/title/tt6763664/', 'https://www.imdb.com/title/tt4972582/']\n"
     ]
    }
   ],
   "source": [
    "temp_page = list(scraper_object.pages.values())[0]\n",
    "\n",
    "test = ['https://www.imdb.com' + item.find_all('a')[0].attrs['href'] for item in temp_page.find_all(attrs={'class':'lister-item-header'})]\n",
    "\n",
    "\n",
    "print(test)\n"
   ]
  },
  {
   "cell_type": "code",
   "execution_count": 5,
   "id": "91b6f999",
   "metadata": {},
   "outputs": [
    {
     "name": "stdout",
     "output_type": "stream",
     "text": [
      "<html>\n",
      "<head><title>403 Forbidden</title></head>\n",
      "<body>\n",
      "<center><h1>403 Forbidden</h1></center>\n",
      "</body>\n",
      "</html>\n",
      "\n"
     ]
    }
   ],
   "source": [
    "test_link = BeautifulSoup(requests.get('https://www.imdb.com/title/tt1520211/?ref_=adv_li_tt').text, \"html.parser\")\n",
    "print(test_link)"
   ]
  },
  {
   "cell_type": "code",
   "execution_count": 41,
   "id": "d1bdcae6",
   "metadata": {},
   "outputs": [
    {
     "data": {
      "text/plain": [
       "['<div class=\"lister-item mode-advanced\">',\n",
       " '<div class=\"lister-top-right\">',\n",
       " '<div class=\"ribbonize\" data-caller=\"filmosearch\" data-tconst=\"tt17663992\"></div>',\n",
       " '</div>',\n",
       " '<div class=\"lister-item-image float-left\">',\n",
       " '<a href=\"/title/tt17663992/\"> <img alt=\"Scream VI\" class=\"loadlate\" data-tconst=\"tt17663992\" height=\"98\" loadlate=\"https://m.media-amazon.com/images/M/MV5BYTQ5OTkxNGEtZjZkMS00ZjBlLWE2OWYtM2ZkOTU3MjRlNzAxXkEyXkFqcGdeQXVyMTQzNTA5MzYz._V1_UY98_CR5,0,67,98_AL_.jpg\" src=\"https://m.media-amazon.com/images/S/sash/4FyxwxECzL-U1J8.png\" width=\"67\"/>',\n",
       " '</a> </div>',\n",
       " '<div class=\"lister-item-content\">',\n",
       " '<h3 class=\"lister-item-header\">',\n",
       " '<span class=\"lister-item-index unbold text-primary\">9.</span>',\n",
       " '<a href=\"/title/tt17663992/\">Scream VI</a>',\n",
       " '<span class=\"lister-item-year text-muted unbold\">(2023)</span>',\n",
       " '</h3>',\n",
       " '<p class=\"text-muted\">',\n",
       " '<span class=\"runtime\">123 min</span>',\n",
       " '<span class=\"ghost\">|</span>',\n",
       " '<span class=\"genre\">',\n",
       " 'Horror, Mystery, Thriller            </span>',\n",
       " '<span class=\"ghost\">|</span>',\n",
       " '<b>Completed</b>',\n",
       " '</p>',\n",
       " '<p class=\"text-muted\">',\n",
       " 'In the next installment, the survivors of the Ghostface killings leave Woodsboro behind and start a fresh chapter in New York City.</p>',\n",
       " '<p class=\"\">',\n",
       " '    Directors:',\n",
       " '<a href=\"/name/nm2366012/\">Matt Bettinelli-Olpin</a>, ',\n",
       " '<a href=\"/name/nm2419470/\">Tyler Gillett</a>',\n",
       " '<span class=\"ghost\">|</span> ',\n",
       " '    Stars:',\n",
       " '<a href=\"/name/nm4574440/\">Melissa Barrera</a>, ',\n",
       " '<a href=\"/name/nm0001073/\">Courteney Cox</a>, ',\n",
       " '<a href=\"/name/nm4911194/\">Jenna Ortega</a>, ',\n",
       " '<a href=\"/name/nm5506401/\">Jasmin Savoy Brown</a>',\n",
       " '</p>',\n",
       " '</div>',\n",
       " '</div>']"
      ]
     },
     "execution_count": 41,
     "metadata": {},
     "output_type": "execute_result"
    }
   ],
   "source": [
    "movie_data = [item for item in temp_page.find_all(attrs={'class':'lister-item mode-advanced'})] \n",
    "movie = str(movie_data[8]).split('\\n')\n",
    "movie\n",
    "\n"
   ]
  },
  {
   "cell_type": "code",
   "execution_count": 42,
   "id": "4075eb9a",
   "metadata": {},
   "outputs": [
    {
     "name": "stdout",
     "output_type": "stream",
     "text": [
      "0\n",
      "1\n",
      "2\n",
      "3\n",
      "4\n",
      "5\n",
      "6\n",
      "7\n",
      "8\n",
      "<a href=\"/name/nm2366012/\">Matt Bettinelli-Olpin</a>, \n",
      "<a href=\"/name/nm2419470/\">Tyler Gillett</a>\n"
     ]
    },
    {
     "ename": "ValueError",
     "evalue": "substring not found",
     "output_type": "error",
     "traceback": [
      "\u001b[0;31m---------------------------------------------------------------------------\u001b[0m",
      "\u001b[0;31mValueError\u001b[0m                                Traceback (most recent call last)",
      "\u001b[0;32m/tmp/ipykernel_3473/3782088741.py\u001b[0m in \u001b[0;36m<module>\u001b[0;34m\u001b[0m\n\u001b[1;32m     50\u001b[0m             \u001b[0mprint\u001b[0m\u001b[0;34m(\u001b[0m\u001b[0mi\u001b[0m\u001b[0;34m)\u001b[0m\u001b[0;34m\u001b[0m\u001b[0;34m\u001b[0m\u001b[0m\n\u001b[1;32m     51\u001b[0m             \u001b[0;32mif\u001b[0m \u001b[0;34m'<a href=\"/name/'\u001b[0m \u001b[0;32min\u001b[0m \u001b[0mi\u001b[0m\u001b[0;34m:\u001b[0m\u001b[0;34m\u001b[0m\u001b[0;34m\u001b[0m\u001b[0m\n\u001b[0;32m---> 52\u001b[0;31m                 \u001b[0mmovie_dict\u001b[0m\u001b[0;34m[\u001b[0m\u001b[0;34m'directors'\u001b[0m\u001b[0;34m]\u001b[0m \u001b[0;34m=\u001b[0m \u001b[0;34m','\u001b[0m\u001b[0;34m.\u001b[0m\u001b[0mjoin\u001b[0m\u001b[0;34m(\u001b[0m\u001b[0;34m[\u001b[0m\u001b[0mmovie_dict\u001b[0m\u001b[0;34m[\u001b[0m\u001b[0;34m'directors'\u001b[0m\u001b[0;34m]\u001b[0m\u001b[0;34m,\u001b[0m \u001b[0mi\u001b[0m\u001b[0;34m[\u001b[0m\u001b[0mi\u001b[0m\u001b[0;34m.\u001b[0m\u001b[0mindex\u001b[0m\u001b[0;34m(\u001b[0m\u001b[0;34m'/\">'\u001b[0m\u001b[0;34m)\u001b[0m\u001b[0;34m:\u001b[0m \u001b[0mi\u001b[0m\u001b[0;34m.\u001b[0m\u001b[0mindex\u001b[0m\u001b[0;34m(\u001b[0m\u001b[0;34m'</a>,'\u001b[0m\u001b[0;34m)\u001b[0m\u001b[0;34m]\u001b[0m\u001b[0;34m]\u001b[0m\u001b[0;34m)\u001b[0m\u001b[0;34m\u001b[0m\u001b[0;34m\u001b[0m\u001b[0m\n\u001b[0m\u001b[1;32m     53\u001b[0m     \u001b[0;32melif\u001b[0m \u001b[0;34m'directors'\u001b[0m \u001b[0;32mnot\u001b[0m \u001b[0;32min\u001b[0m \u001b[0mmovie_dict\u001b[0m\u001b[0;34m:\u001b[0m\u001b[0;34m\u001b[0m\u001b[0;34m\u001b[0m\u001b[0m\n\u001b[1;32m     54\u001b[0m         \u001b[0mmovie_dict\u001b[0m\u001b[0;34m[\u001b[0m\u001b[0;34m'directors'\u001b[0m\u001b[0;34m]\u001b[0m \u001b[0;34m=\u001b[0m \u001b[0;32mNone\u001b[0m\u001b[0;34m\u001b[0m\u001b[0;34m\u001b[0m\u001b[0m\n",
      "\u001b[0;31mValueError\u001b[0m: substring not found"
     ]
    }
   ],
   "source": [
    "movies_dataframe = pd.DataFrame()\n",
    "\n",
    "for k in range(len(movie_data)):\n",
    "    movie = str(movie_data[k]).split('\\n')\n",
    "    print(k)\n",
    "    \n",
    "\n",
    "    movie_dict = {}\n",
    "\n",
    "    for j in range(len(movie)):\n",
    "        i = movie[j]    \n",
    "        if ('a href=\"/title/' in i) and ('img' in i): \n",
    "            movie_dict['movie_title'] = i[i.index('img alt=') + 9: i.index('\" class=')]\n",
    "            movie_dict['movie_image'] = i[i.index('loadlate=\"https') + 10: i.index('\" src=\"https:')]\n",
    "        elif 'movie_title' not in movie_dict:\n",
    "            movie_dict['movie_title'] = None\n",
    "            movie_dict['movie_image'] = None \n",
    "        if 'lister-item-year text-muted unbold' in i:\n",
    "            movie_dict['release_date'] = i[49 :i.index('</span>')]\n",
    "        elif 'release_date' not in movie_dict: \n",
    "            movie_dict['release_date'] = None \n",
    "        if '<span class=\"certificate' in i: \n",
    "            movie_dict['certificate'] = i[26:i.index('</span>')]\n",
    "        elif 'certificate' not in movie_dict: \n",
    "            movie_dict['certificate'] = None \n",
    "        if 'span class=\"runtime\"' in i: \n",
    "            movie_dict['duration'] = i[22:i.index('</span>')]\n",
    "        elif 'duration' not in movie_dict: \n",
    "            movie_dict['duration'] = None \n",
    "        if '<span class=\"genre\">' in i:\n",
    "            i = movie[j + 1]\n",
    "            movie_dict['genre'] = i[:i.index('            </span>')]\n",
    "        elif 'genre' not in movie_dict: \n",
    "            movie_dict['genre'] = None \n",
    "        if '<div class=\"inline-block ratings-imdb-rating\" data-value=' in i: \n",
    "            movie_dict['rating'] = i[58:i.index('\" name=\"ir\"')]\n",
    "        elif 'rating' not in movie_dict: \n",
    "            movie_dict['rating'] = None\n",
    "        if '<p class=\"\">' in i:\n",
    "            i = movie[j - 1]\n",
    "            movie_dict['description'] = i[:i.index('</p>')]\n",
    "        elif 'description' not in movie_dict: \n",
    "            movie_dict['description'] = None \n",
    "\n",
    "#continue from here \n",
    "    if '    Directors:' in movie:\n",
    "        movie_dict['directors'] = ''\n",
    "        movie = movie[movie.index('    Directors:') + 1:movie.index('    Stars:')]\n",
    "        for j in range(len(movie)):\n",
    "            i = movie[j]  \n",
    "            print(i)\n",
    "            if '<a href=\"/name/' in i: \n",
    "                movie_dict['directors'] = ','.join([movie_dict['directors'], i[i.index('/\">'): i.index('</a>,')]]) \n",
    "    elif 'directors' not in movie_dict:\n",
    "        movie_dict['directors'] = None\n",
    "\n",
    "\n",
    "    \n",
    "    movies_dataframe = pd.concat([movies_dataframe, pd.DataFrame(movie_dict, index = [k])], axis = 0)   \n",
    "\n",
    "\n",
    "display(movies_dataframe)"
   ]
  },
  {
   "cell_type": "code",
   "execution_count": 31,
   "id": "fc761534",
   "metadata": {},
   "outputs": [
    {
     "data": {
      "text/plain": [
       "58"
      ]
     },
     "execution_count": 31,
     "metadata": {},
     "output_type": "execute_result"
    }
   ],
   "source": [
    "len('<div class=\"inline-block ratings-imdb-rating\" data-value=\"')"
   ]
  },
  {
   "cell_type": "markdown",
   "id": "ddf16420",
   "metadata": {},
   "source": [
    "movies_dataframe = pd.concat([self.movies_dataframe, pd.DataFrame(extra_movie_dict,index = [0])], axis = 0"
   ]
  }
 ],
 "metadata": {
  "kernelspec": {
   "display_name": "Python 3 (ipykernel)",
   "language": "python",
   "name": "python3"
  },
  "language_info": {
   "codemirror_mode": {
    "name": "ipython",
    "version": 3
   },
   "file_extension": ".py",
   "mimetype": "text/x-python",
   "name": "python",
   "nbconvert_exporter": "python",
   "pygments_lexer": "ipython3",
   "version": "3.9.13"
  }
 },
 "nbformat": 4,
 "nbformat_minor": 5
}
