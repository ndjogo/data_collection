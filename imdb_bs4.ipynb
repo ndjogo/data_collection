{
 "cells": [
  {
   "cell_type": "code",
   "execution_count": 7,
   "id": "53e42766",
   "metadata": {},
   "outputs": [],
   "source": [
    "import requests \n",
    "from bs4 import BeautifulSoup \n",
    "import pandas as pd"
   ]
  },
  {
   "cell_type": "code",
   "execution_count": 8,
   "id": "5acec005",
   "metadata": {},
   "outputs": [],
   "source": [
    "class IMDBScraper():\n",
    "    def __init__(self, page_num):\n",
    "        self.urls = {}\n",
    "        self.pages = {}\n",
    "        self.movie_info = {}\n",
    "        self.movies_dataframe = pd.DataFrame()\n",
    "        self.movie_links = {}\n",
    "        self.page_num = page_num\n",
    "        \n",
    "        i = 0 \n",
    "        for page in range(1,50*page_num + 1,50):\n",
    "            i += 1 \n",
    "            self.urls[\"page_num: {}\".format(i)] = 'https://www.imdb.com/search/title/?genres=horror&start={}&explore=title_type,genres&ref_=adv_nxt'.format(page)\n",
    "            self.pages[\"page_num: {}\".format(i)] = BeautifulSoup(requests.get(self.urls[\"page_num: {}\".format(i)]).text, \"html.parser\") \n",
    "            self.movie_links[\"page_num: {}\".format(i)] = ['https://www.imdb.com' + item.find_all('a')[0].attrs['href'] for item in self.pages[\"page_num: {}\".format(i)].find_all(attrs={'class':'lister-item-header'})]\n",
    "            \n",
    "\n",
    "           \n",
    "    def get_movie_info(self):\n",
    "        for page_num, page in self.pages.items():\n",
    "            if \"movie_title\" in self.movie_info: \n",
    "                pass\n",
    "            else: \n",
    "                self.movie_info[\"movie_title\"] = [item.text.split('\\n')[2] for item in page.find_all(attrs={ 'class':'lister-item-header'})]\n",
    "                self.movie_info[\"release_year\"] = [item.text.split('\\n')[3] for item in page.find_all(attrs={ 'class':'lister-item-header'})]\n",
    "                self.movie_info[\"certificate\"] = [item.text for item in page.find_all(attrs={ 'class':'certificate'})]\n",
    "                \n",
    "                \n",
    "                \n",
    "                \n",
    "        self.movies_dataframe[\"movie_title\"] = self.movie_info[\"movie_title\"]\n",
    "        self.movies_dataframe[\"release_year\"] = self.movie_info[\"release_year\"]\n",
    "        self.movies_dataframe[\"certificate\"] = self.movie_info[\"certificate\"]\n",
    "        \n",
    "#     def scrape_movie_link(self):\n",
    "#         i = 0 \n",
    "#         for page in range(1,50*self.page_num + 1,50):\n",
    "#             i += 1 \n",
    "#             for movie in self.movie_links[\"page_num: {}\".format(i)]:\n",
    "#                 print(movie)\n",
    "#                 movie_page = BeautifulSoup(requests.get(movie).text, \"html.parser\")\n",
    "#                 print(movie_page)\n",
    "                \n",
    "                \n",
    "        \n",
    "        \n",
    "    "
   ]
  },
  {
   "cell_type": "code",
   "execution_count": 10,
   "id": "1730f3c1",
   "metadata": {
    "scrolled": true
   },
   "outputs": [
    {
     "data": {
      "text/plain": [
       "50"
      ]
     },
     "execution_count": 10,
     "metadata": {},
     "output_type": "execute_result"
    }
   ],
   "source": [
    "scraper_object = IMDBScraper(3)\n",
    "\n",
    "#scraper_object.urls\n",
    "#scraper_object.pages \n",
    "#scraper_object.get_movie_info()\n",
    "#scraper_object.movies_dataframe\n",
    "len(list(scraper_object.movie_links.values())[2])\n"
   ]
  },
  {
   "cell_type": "code",
   "execution_count": 11,
   "id": "381b1079",
   "metadata": {},
   "outputs": [
    {
     "name": "stdout",
     "output_type": "stream",
     "text": [
      "['https://www.imdb.com/title/tt3581920/', 'https://www.imdb.com/title/tt15679400/', 'https://www.imdb.com/title/tt9764362/', 'https://www.imdb.com/title/tt1520211/', 'https://www.imdb.com/title/tt13802576/', 'https://www.imdb.com/title/tt8760708/', 'https://www.imdb.com/title/tt13051810/', 'https://www.imdb.com/title/tt10365998/', 'https://www.imdb.com/title/tt17663992/', 'https://www.imdb.com/title/tt4574334/', 'https://www.imdb.com/title/tt14138650/', 'https://www.imdb.com/title/tt0460681/', 'https://www.imdb.com/title/tt13560574/', 'https://www.imdb.com/title/tt19623240/', 'https://www.imdb.com/title/tt15428778/', 'https://www.imdb.com/title/tt15487922/', 'https://www.imdb.com/title/tt13280054/', 'https://www.imdb.com/title/tt2560140/', 'https://www.imdb.com/title/tt8068860/', 'https://www.imdb.com/title/tt21307994/', 'https://www.imdb.com/title/tt2140553/', 'https://www.imdb.com/title/tt11041332/', 'https://www.imdb.com/title/tt1844624/', 'https://www.imdb.com/title/tt15791034/', 'https://www.imdb.com/title/tt18925334/', 'https://www.imdb.com/title/tt15474916/', 'https://www.imdb.com/title/tt3743822/', 'https://www.imdb.com/title/tt10954984/', 'https://www.imdb.com/title/tt1405406/', 'https://www.imdb.com/title/tt1751634/', 'https://www.imdb.com/title/tt14121726/', 'https://www.imdb.com/title/tt10168670/', 'https://www.imdb.com/title/tt14852808/', 'https://www.imdb.com/title/tt11245972/', 'https://www.imdb.com/title/tt0144084/', 'https://www.imdb.com/title/tt4589218/', 'https://www.imdb.com/title/tt10954652/', 'https://www.imdb.com/title/tt8772262/', 'https://www.imdb.com/title/tt7144666/', 'https://www.imdb.com/title/tt3427252/', 'https://www.imdb.com/title/tt8415836/', 'https://www.imdb.com/title/tt7784604/', 'https://www.imdb.com/title/tt6160448/', 'https://www.imdb.com/title/tt7908628/', 'https://www.imdb.com/title/tt9813792/', 'https://www.imdb.com/title/tt15676664/', 'https://www.imdb.com/title/tt6298000/', 'https://www.imdb.com/title/tt10403420/', 'https://www.imdb.com/title/tt6763664/', 'https://www.imdb.com/title/tt4972582/']\n"
     ]
    }
   ],
   "source": [
    "temp_page = list(scraper_object.pages.values())[0]\n",
    "\n",
    "test = ['https://www.imdb.com' + item.find_all('a')[0].attrs['href'] for item in temp_page.find_all(attrs={'class':'lister-item-header'})]\n",
    "\n",
    "\n",
    "print(test)\n"
   ]
  },
  {
   "cell_type": "code",
   "execution_count": 12,
   "id": "91b6f999",
   "metadata": {},
   "outputs": [
    {
     "name": "stdout",
     "output_type": "stream",
     "text": [
      "<html>\n",
      "<head><title>403 Forbidden</title></head>\n",
      "<body>\n",
      "<center><h1>403 Forbidden</h1></center>\n",
      "</body>\n",
      "</html>\n",
      "\n"
     ]
    }
   ],
   "source": [
    "test_link = BeautifulSoup(requests.get('https://www.imdb.com/title/tt1520211/?ref_=adv_li_tt').text, \"html.parser\")\n",
    "print(test_link)"
   ]
  },
  {
   "cell_type": "code",
   "execution_count": 51,
   "id": "d1bdcae6",
   "metadata": {},
   "outputs": [
    {
     "data": {
      "text/plain": [
       "['<div class=\"lister-item mode-advanced\">',\n",
       " '<div class=\"lister-top-right\">',\n",
       " '<div class=\"ribbonize\" data-caller=\"filmosearch\" data-tconst=\"tt15679400\"></div>',\n",
       " '</div>',\n",
       " '<div class=\"lister-item-image float-left\">',\n",
       " '<a href=\"/title/tt15679400/\"> <img alt=\"Knock at the Cabin\" class=\"loadlate\" data-tconst=\"tt15679400\" height=\"98\" loadlate=\"https://m.media-amazon.com/images/M/MV5BZTc4MjU0MjMtYTEwNy00YjNlLTk2MGYtMjNlNzFjMmY4MjQ0XkEyXkFqcGdeQXVyODk4OTc3MTY@._V1_UX67_CR0,0,67,98_AL_.jpg\" src=\"https://m.media-amazon.com/images/S/sash/4FyxwxECzL-U1J8.png\" width=\"67\"/>',\n",
       " '</a> </div>',\n",
       " '<div class=\"lister-item-content\">',\n",
       " '<h3 class=\"lister-item-header\">',\n",
       " '<span class=\"lister-item-index unbold text-primary\">2.</span>',\n",
       " '<a href=\"/title/tt15679400/\">Knock at the Cabin</a>',\n",
       " '<span class=\"lister-item-year text-muted unbold\">(2023)</span>',\n",
       " '</h3>',\n",
       " '<p class=\"text-muted\">',\n",
       " '<span class=\"certificate\">15</span>',\n",
       " '<span class=\"ghost\">|</span>',\n",
       " '<span class=\"runtime\">100 min</span>',\n",
       " '<span class=\"ghost\">|</span>',\n",
       " '<span class=\"genre\">',\n",
       " 'Horror, Mystery, Thriller            </span>',\n",
       " '</p>',\n",
       " '<div class=\"ratings-bar\">',\n",
       " '<div class=\"inline-block ratings-imdb-rating\" data-value=\"6.4\" name=\"ir\">',\n",
       " '<span class=\"global-sprite rating-star imdb-rating\"></span>',\n",
       " '<strong>6.4</strong>',\n",
       " '</div>',\n",
       " '<div class=\"inline-block ratings-user-rating\">',\n",
       " '<span class=\"userRatingValue\" data-tconst=\"tt15679400\" id=\"urv_tt15679400\">',\n",
       " '<span class=\"global-sprite rating-star no-rating\"></span>',\n",
       " '<span class=\"rate\" data-no-rating=\"Rate this\" data-value=\"0\" name=\"ur\">Rate this</span>',\n",
       " '</span>',\n",
       " '<div class=\"starBarWidget\" id=\"sb_tt15679400\">',\n",
       " '<div class=\"rating rating-list\" data-csrf-token=\"\" data-ga-identifier=\"\" data-starbar-class=\"rating-list\" data-user=\"\" id=\"tt15679400|imdb|6.4|6.4|adv_li_tt||advsearch|title\" itemprop=\"aggregateRating\" itemscope=\"\" itemtype=\"http://schema.org/AggregateRating\" title=\"Users rated this 6.4/10 (16,527 votes) - click stars to rate\">',\n",
       " '<meta content=\"6.4\" itemprop=\"ratingValue\"/>',\n",
       " '<meta content=\"10\" itemprop=\"bestRating\"/>',\n",
       " '<meta content=\"16527\" itemprop=\"ratingCount\"/>',\n",
       " '<span class=\"rating-bg\">\\xa0</span>',\n",
       " '<span class=\"rating-imdb\" style=\"width: 89.6px\">\\xa0</span>',\n",
       " '<span class=\"rating-stars\">',\n",
       " '<a href=\"/register/login?why=vote\" rel=\"nofollow\" title=\"Register or login to rate this title\"><span>1</span></a>',\n",
       " '<a href=\"/register/login?why=vote\" rel=\"nofollow\" title=\"Register or login to rate this title\"><span>2</span></a>',\n",
       " '<a href=\"/register/login?why=vote\" rel=\"nofollow\" title=\"Register or login to rate this title\"><span>3</span></a>',\n",
       " '<a href=\"/register/login?why=vote\" rel=\"nofollow\" title=\"Register or login to rate this title\"><span>4</span></a>',\n",
       " '<a href=\"/register/login?why=vote\" rel=\"nofollow\" title=\"Register or login to rate this title\"><span>5</span></a>',\n",
       " '<a href=\"/register/login?why=vote\" rel=\"nofollow\" title=\"Register or login to rate this title\"><span>6</span></a>',\n",
       " '<a href=\"/register/login?why=vote\" rel=\"nofollow\" title=\"Register or login to rate this title\"><span>7</span></a>',\n",
       " '<a href=\"/register/login?why=vote\" rel=\"nofollow\" title=\"Register or login to rate this title\"><span>8</span></a>',\n",
       " '<a href=\"/register/login?why=vote\" rel=\"nofollow\" title=\"Register or login to rate this title\"><span>9</span></a>',\n",
       " '<a href=\"/register/login?why=vote\" rel=\"nofollow\" title=\"Register or login to rate this title\"><span>10</span></a>',\n",
       " '</span>',\n",
       " '<span class=\"rating-rating\"><span class=\"value\">6.4</span><span class=\"grey\">/</span><span class=\"grey\">10</span></span>',\n",
       " '<span class=\"rating-cancel\"><a href=\"/title/tt15679400/vote\" rel=\"nofollow\" title=\"Delete\"><span>X</span></a></span>',\n",
       " '\\xa0</div>',\n",
       " '</div>',\n",
       " '</div>',\n",
       " '<div class=\"inline-block ratings-metascore\">',\n",
       " '<span class=\"metascore favorable\">63        </span>',\n",
       " '        Metascore',\n",
       " '            </div>',\n",
       " '</div>',\n",
       " '<p class=\"text-muted\">',\n",
       " 'While vacationing, a girl and her parents are taken hostage by armed strangers who demand that the family make a choice to avert the apocalypse.</p>',\n",
       " '<p class=\"\">',\n",
       " '    Director:',\n",
       " '<a href=\"/name/nm0796117/\">M. Night Shyamalan</a>',\n",
       " '<span class=\"ghost\">|</span> ',\n",
       " '    Stars:',\n",
       " '<a href=\"/name/nm1176985/\">Dave Bautista</a>, ',\n",
       " '<a href=\"/name/nm2676147/\">Jonathan Groff</a>, ',\n",
       " '<a href=\"/name/nm0342488/\">Rupert Grint</a>, ',\n",
       " '<a href=\"/name/nm0025458/\">Nikki Amuka-Bird</a>',\n",
       " '</p>',\n",
       " '<p class=\"sort-num_votes-visible\">',\n",
       " '<span class=\"text-muted\">Votes:</span>',\n",
       " '<span data-value=\"16527\" name=\"nv\">16,527</span>',\n",
       " '</p>',\n",
       " '</div>',\n",
       " '</div>']"
      ]
     },
     "execution_count": 51,
     "metadata": {},
     "output_type": "execute_result"
    }
   ],
   "source": [
    "test_movie_data = [item for item in temp_page.find_all(attrs={'class':'lister-item mode-advanced'})] \n",
    "movie = str(test_movie_data[1]).split('\\n')\n",
    "movie\n",
    "\n"
   ]
  },
  {
   "cell_type": "code",
   "execution_count": 52,
   "id": "4075eb9a",
   "metadata": {},
   "outputs": [
    {
     "name": "stdout",
     "output_type": "stream",
     "text": [
      "{'movie_title': 'Knock at the Cabin', 'movie_image': 'https://m.media-amazon.com/images/M/MV5BZTc4MjU0MjMtYTEwNy00YjNlLTk2MGYtMjNlNzFjMmY4MjQ0XkEyXkFqcGdeQXVyODk4OTc3MTY@._V1_UX67_CR0,0,67,98_AL_.jpg', 'release_date': '2023', 'certificate': '15'}\n"
     ]
    }
   ],
   "source": [
    "movie_dict = {}\n",
    "\n",
    "for i in movie: \n",
    "    if ('a href=\"/title/' in i) and ('img' in i): \n",
    "        movie_dict['movie_title'] = i[i.index('img alt=') + 9: i.index('\" class=')]\n",
    "        movie_dict['movie_image'] = i[i.index('loadlate=\"https') + 10: i.index('\" src=\"https:')]\n",
    "    elif 'movie_title' not in movie_dict:\n",
    "        movie_dict['movie_title'] = None\n",
    "        movie_dict['movie_image'] = None \n",
    "    if 'lister-item-year text-muted unbold' in i:\n",
    "        movie_dict['release_date'] = i[i.index('(')+ 1: i.index(')')]\n",
    "    elif 'release_date' not in movie_dict: \n",
    "        movie_dict['release_date'] = None \n",
    "    if 'certificate' in i: \n",
    "        movie_dict['certificate'] = i[26:i.index('</span>')]\n",
    "    elif 'certificate' not in movie_dict: \n",
    "        movie_dict['certificate'] = None \n",
    "\n",
    "print(movie_dict)"
   ]
  },
  {
   "cell_type": "code",
   "execution_count": 37,
   "id": "fc761534",
   "metadata": {},
   "outputs": [
    {
     "data": {
      "text/plain": [
       "26"
      ]
     },
     "execution_count": 37,
     "metadata": {},
     "output_type": "execute_result"
    }
   ],
   "source": [
    "len('<span class=\"certificate\">')"
   ]
  },
  {
   "cell_type": "code",
   "execution_count": null,
   "id": "2e3579c0",
   "metadata": {},
   "outputs": [],
   "source": []
  }
 ],
 "metadata": {
  "kernelspec": {
   "display_name": "Python 3 (ipykernel)",
   "language": "python",
   "name": "python3"
  },
  "language_info": {
   "codemirror_mode": {
    "name": "ipython",
    "version": 3
   },
   "file_extension": ".py",
   "mimetype": "text/x-python",
   "name": "python",
   "nbconvert_exporter": "python",
   "pygments_lexer": "ipython3",
   "version": "3.9.13"
  }
 },
 "nbformat": 4,
 "nbformat_minor": 5
}
