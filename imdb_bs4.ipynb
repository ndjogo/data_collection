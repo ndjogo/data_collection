{
 "cells": [
  {
   "cell_type": "code",
   "execution_count": 1,
   "id": "53e42766",
   "metadata": {},
   "outputs": [],
   "source": [
    "import requests \n",
    "from bs4 import BeautifulSoup \n",
    "import pandas as pd"
   ]
  },
  {
   "cell_type": "code",
   "execution_count": 15,
   "id": "5acec005",
   "metadata": {},
   "outputs": [],
   "source": [
    "class IMDBScraper():\n",
    "    def __init__(self, page_num):\n",
    "        self.urls = {}\n",
    "        self.pages = {}\n",
    "        self.movie_info = {}\n",
    "        self.movies_dataframe = pd.DataFrame()\n",
    "        self.movie_links = {}\n",
    "        \n",
    "        i = 0 \n",
    "        for page in range(1,50*page_num + 1,50):\n",
    "            i += 1 \n",
    "            self.urls[\"page_num: {}\".format(i)] = 'https://www.imdb.com/search/title/?genres=horror&start={}&explore=title_type,genres&ref_=adv_nxt'.format(page)\n",
    "            self.pages[\"page_num: {}\".format(i)] = BeautifulSoup(requests.get(self.urls[\"page_num: {}\".format(i)]).text, \"html.parser\")\n",
    "            # continue from here \n",
    "            for i in self.pages[\"page_num: {}\".format(i)].find_all(attrs={'class':'lister-item-header'}):\n",
    "                try: \n",
    "                    self.movie_links.append('https://www.rottentomatoes.com' + str(i.attrs['href']))\n",
    "                except: \n",
    "                    pass \n",
    "            \n",
    "    def get_movie_info(self):\n",
    "        for page_num, page in self.pages.items():\n",
    "            if \"movie_title\" in self.movie_info: \n",
    "                pass\n",
    "            else: \n",
    "                self.movie_info[\"movie_title\"] = [item.text.split('\\n')[2] for item in page.find_all(attrs={ 'class':'lister-item-header'})]\n",
    "                self.movie_info[\"release_year\"] = [item.text.split('\\n')[3] for item in page.find_all(attrs={ 'class':'lister-item-header'})]\n",
    "                self.movie_info[\"certificate\"] = [item.text for item in page.find_all(attrs={ 'class':'certificate'})]\n",
    "                \n",
    "                \n",
    "                \n",
    "                \n",
    "        self.movies_dataframe[\"movie_title\"] = self.movie_info[\"movie_title\"]\n",
    "        self.movies_dataframe[\"release_year\"] = self.movie_info[\"release_year\"]\n",
    "        self.movies_dataframe[\"certificate\"] = self.movie_info[\"certificate\"]"
   ]
  },
  {
   "cell_type": "code",
   "execution_count": 16,
   "id": "1730f3c1",
   "metadata": {
    "scrolled": true
   },
   "outputs": [
    {
     "ename": "ValueError",
     "evalue": "Length of values (43) does not match length of index (50)",
     "output_type": "error",
     "traceback": [
      "\u001b[0;31m---------------------------------------------------------------------------\u001b[0m",
      "\u001b[0;31mValueError\u001b[0m                                Traceback (most recent call last)",
      "\u001b[0;32m/tmp/ipykernel_3215/3792187347.py\u001b[0m in \u001b[0;36m<module>\u001b[0;34m\u001b[0m\n\u001b[1;32m      3\u001b[0m \u001b[0mscraper_object\u001b[0m\u001b[0;34m.\u001b[0m\u001b[0murls\u001b[0m\u001b[0;34m\u001b[0m\u001b[0;34m\u001b[0m\u001b[0m\n\u001b[1;32m      4\u001b[0m \u001b[0mscraper_object\u001b[0m\u001b[0;34m.\u001b[0m\u001b[0mpages\u001b[0m\u001b[0;34m\u001b[0m\u001b[0;34m\u001b[0m\u001b[0m\n\u001b[0;32m----> 5\u001b[0;31m \u001b[0mscraper_object\u001b[0m\u001b[0;34m.\u001b[0m\u001b[0mget_movie_info\u001b[0m\u001b[0;34m(\u001b[0m\u001b[0;34m)\u001b[0m\u001b[0;34m\u001b[0m\u001b[0;34m\u001b[0m\u001b[0m\n\u001b[0m\u001b[1;32m      6\u001b[0m \u001b[0mscraper_object\u001b[0m\u001b[0;34m.\u001b[0m\u001b[0mmovies_dataframe\u001b[0m\u001b[0;34m\u001b[0m\u001b[0;34m\u001b[0m\u001b[0m\n",
      "\u001b[0;32m/tmp/ipykernel_3215/1117721227.py\u001b[0m in \u001b[0;36mget_movie_info\u001b[0;34m(self)\u001b[0m\n\u001b[1;32m     26\u001b[0m         \u001b[0mself\u001b[0m\u001b[0;34m.\u001b[0m\u001b[0mmovies_dataframe\u001b[0m\u001b[0;34m[\u001b[0m\u001b[0;34m\"movie_title\"\u001b[0m\u001b[0;34m]\u001b[0m \u001b[0;34m=\u001b[0m \u001b[0mself\u001b[0m\u001b[0;34m.\u001b[0m\u001b[0mmovie_info\u001b[0m\u001b[0;34m[\u001b[0m\u001b[0;34m\"movie_title\"\u001b[0m\u001b[0;34m]\u001b[0m\u001b[0;34m\u001b[0m\u001b[0;34m\u001b[0m\u001b[0m\n\u001b[1;32m     27\u001b[0m         \u001b[0mself\u001b[0m\u001b[0;34m.\u001b[0m\u001b[0mmovies_dataframe\u001b[0m\u001b[0;34m[\u001b[0m\u001b[0;34m\"release_year\"\u001b[0m\u001b[0;34m]\u001b[0m \u001b[0;34m=\u001b[0m \u001b[0mself\u001b[0m\u001b[0;34m.\u001b[0m\u001b[0mmovie_info\u001b[0m\u001b[0;34m[\u001b[0m\u001b[0;34m\"release_year\"\u001b[0m\u001b[0;34m]\u001b[0m\u001b[0;34m\u001b[0m\u001b[0;34m\u001b[0m\u001b[0m\n\u001b[0;32m---> 28\u001b[0;31m         \u001b[0mself\u001b[0m\u001b[0;34m.\u001b[0m\u001b[0mmovies_dataframe\u001b[0m\u001b[0;34m[\u001b[0m\u001b[0;34m\"certificate\"\u001b[0m\u001b[0;34m]\u001b[0m \u001b[0;34m=\u001b[0m \u001b[0mself\u001b[0m\u001b[0;34m.\u001b[0m\u001b[0mmovie_info\u001b[0m\u001b[0;34m[\u001b[0m\u001b[0;34m\"certificate\"\u001b[0m\u001b[0;34m]\u001b[0m\u001b[0;34m\u001b[0m\u001b[0;34m\u001b[0m\u001b[0m\n\u001b[0m",
      "\u001b[0;32m~/anaconda3/lib/python3.9/site-packages/pandas/core/frame.py\u001b[0m in \u001b[0;36m__setitem__\u001b[0;34m(self, key, value)\u001b[0m\n\u001b[1;32m   3653\u001b[0m         \u001b[0;32melse\u001b[0m\u001b[0;34m:\u001b[0m\u001b[0;34m\u001b[0m\u001b[0;34m\u001b[0m\u001b[0m\n\u001b[1;32m   3654\u001b[0m             \u001b[0;31m# set column\u001b[0m\u001b[0;34m\u001b[0m\u001b[0;34m\u001b[0m\u001b[0m\n\u001b[0;32m-> 3655\u001b[0;31m             \u001b[0mself\u001b[0m\u001b[0;34m.\u001b[0m\u001b[0m_set_item\u001b[0m\u001b[0;34m(\u001b[0m\u001b[0mkey\u001b[0m\u001b[0;34m,\u001b[0m \u001b[0mvalue\u001b[0m\u001b[0;34m)\u001b[0m\u001b[0;34m\u001b[0m\u001b[0;34m\u001b[0m\u001b[0m\n\u001b[0m\u001b[1;32m   3656\u001b[0m \u001b[0;34m\u001b[0m\u001b[0m\n\u001b[1;32m   3657\u001b[0m     \u001b[0;32mdef\u001b[0m \u001b[0m_setitem_slice\u001b[0m\u001b[0;34m(\u001b[0m\u001b[0mself\u001b[0m\u001b[0;34m,\u001b[0m \u001b[0mkey\u001b[0m\u001b[0;34m:\u001b[0m \u001b[0mslice\u001b[0m\u001b[0;34m,\u001b[0m \u001b[0mvalue\u001b[0m\u001b[0;34m)\u001b[0m\u001b[0;34m:\u001b[0m\u001b[0;34m\u001b[0m\u001b[0;34m\u001b[0m\u001b[0m\n",
      "\u001b[0;32m~/anaconda3/lib/python3.9/site-packages/pandas/core/frame.py\u001b[0m in \u001b[0;36m_set_item\u001b[0;34m(self, key, value)\u001b[0m\n\u001b[1;32m   3830\u001b[0m         \u001b[0mensure\u001b[0m \u001b[0mhomogeneity\u001b[0m\u001b[0;34m.\u001b[0m\u001b[0;34m\u001b[0m\u001b[0;34m\u001b[0m\u001b[0m\n\u001b[1;32m   3831\u001b[0m         \"\"\"\n\u001b[0;32m-> 3832\u001b[0;31m         \u001b[0mvalue\u001b[0m \u001b[0;34m=\u001b[0m \u001b[0mself\u001b[0m\u001b[0;34m.\u001b[0m\u001b[0m_sanitize_column\u001b[0m\u001b[0;34m(\u001b[0m\u001b[0mvalue\u001b[0m\u001b[0;34m)\u001b[0m\u001b[0;34m\u001b[0m\u001b[0;34m\u001b[0m\u001b[0m\n\u001b[0m\u001b[1;32m   3833\u001b[0m \u001b[0;34m\u001b[0m\u001b[0m\n\u001b[1;32m   3834\u001b[0m         if (\n",
      "\u001b[0;32m~/anaconda3/lib/python3.9/site-packages/pandas/core/frame.py\u001b[0m in \u001b[0;36m_sanitize_column\u001b[0;34m(self, value)\u001b[0m\n\u001b[1;32m   4536\u001b[0m \u001b[0;34m\u001b[0m\u001b[0m\n\u001b[1;32m   4537\u001b[0m         \u001b[0;32mif\u001b[0m \u001b[0mis_list_like\u001b[0m\u001b[0;34m(\u001b[0m\u001b[0mvalue\u001b[0m\u001b[0;34m)\u001b[0m\u001b[0;34m:\u001b[0m\u001b[0;34m\u001b[0m\u001b[0;34m\u001b[0m\u001b[0m\n\u001b[0;32m-> 4538\u001b[0;31m             \u001b[0mcom\u001b[0m\u001b[0;34m.\u001b[0m\u001b[0mrequire_length_match\u001b[0m\u001b[0;34m(\u001b[0m\u001b[0mvalue\u001b[0m\u001b[0;34m,\u001b[0m \u001b[0mself\u001b[0m\u001b[0;34m.\u001b[0m\u001b[0mindex\u001b[0m\u001b[0;34m)\u001b[0m\u001b[0;34m\u001b[0m\u001b[0;34m\u001b[0m\u001b[0m\n\u001b[0m\u001b[1;32m   4539\u001b[0m         \u001b[0;32mreturn\u001b[0m \u001b[0msanitize_array\u001b[0m\u001b[0;34m(\u001b[0m\u001b[0mvalue\u001b[0m\u001b[0;34m,\u001b[0m \u001b[0mself\u001b[0m\u001b[0;34m.\u001b[0m\u001b[0mindex\u001b[0m\u001b[0;34m,\u001b[0m \u001b[0mcopy\u001b[0m\u001b[0;34m=\u001b[0m\u001b[0;32mTrue\u001b[0m\u001b[0;34m,\u001b[0m \u001b[0mallow_2d\u001b[0m\u001b[0;34m=\u001b[0m\u001b[0;32mTrue\u001b[0m\u001b[0;34m)\u001b[0m\u001b[0;34m\u001b[0m\u001b[0;34m\u001b[0m\u001b[0m\n\u001b[1;32m   4540\u001b[0m \u001b[0;34m\u001b[0m\u001b[0m\n",
      "\u001b[0;32m~/anaconda3/lib/python3.9/site-packages/pandas/core/common.py\u001b[0m in \u001b[0;36mrequire_length_match\u001b[0;34m(data, index)\u001b[0m\n\u001b[1;32m    555\u001b[0m     \"\"\"\n\u001b[1;32m    556\u001b[0m     \u001b[0;32mif\u001b[0m \u001b[0mlen\u001b[0m\u001b[0;34m(\u001b[0m\u001b[0mdata\u001b[0m\u001b[0;34m)\u001b[0m \u001b[0;34m!=\u001b[0m \u001b[0mlen\u001b[0m\u001b[0;34m(\u001b[0m\u001b[0mindex\u001b[0m\u001b[0;34m)\u001b[0m\u001b[0;34m:\u001b[0m\u001b[0;34m\u001b[0m\u001b[0;34m\u001b[0m\u001b[0m\n\u001b[0;32m--> 557\u001b[0;31m         raise ValueError(\n\u001b[0m\u001b[1;32m    558\u001b[0m             \u001b[0;34m\"Length of values \"\u001b[0m\u001b[0;34m\u001b[0m\u001b[0;34m\u001b[0m\u001b[0m\n\u001b[1;32m    559\u001b[0m             \u001b[0;34mf\"({len(data)}) \"\u001b[0m\u001b[0;34m\u001b[0m\u001b[0;34m\u001b[0m\u001b[0m\n",
      "\u001b[0;31mValueError\u001b[0m: Length of values (43) does not match length of index (50)"
     ]
    }
   ],
   "source": [
    "scraper_object = IMDBScraper(1)\n",
    "\n",
    "scraper_object.urls\n",
    "scraper_object.pages \n",
    "scraper_object.get_movie_info()\n",
    "scraper_object.movies_dataframe"
   ]
  },
  {
   "cell_type": "code",
   "execution_count": 58,
   "id": "381b1079",
   "metadata": {},
   "outputs": [
    {
     "name": "stdout",
     "output_type": "stream",
     "text": [
      "['/title/tt3581920/', '/title/tt9764362/', '/title/tt13802576/', '/title/tt15679400/', '/title/tt8760708/', '/title/tt1520211/', '/title/tt10365998/', '/title/tt14138650/', '/title/tt13560574/', '/title/tt15487922/', '/title/tt4574334/', '/title/tt2140553/', '/title/tt15428778/', '/title/tt0460681/', '/title/tt8068860/', '/title/tt3427252/', '/title/tt2560140/', '/title/tt19623240/', '/title/tt21307994/', '/title/tt1844624/', '/title/tt0057729/', '/title/tt15791034/', '/title/tt18925334/', '/title/tt17663992/', '/title/tt15474916/', '/title/tt1405406/', '/title/tt11041332/', '/title/tt10954984/', '/title/tt3743822/', '/title/tt19363554/', '/title/tt7798604/', '/title/tt14852808/', '/title/tt0144084/', '/title/tt14642626/', '/title/tt1751634/', '/title/tt13051810/', '/title/tt10168670/', '/title/tt6160448/', '/title/tt8415836/', '/title/tt11245972/', '/title/tt7784604/', '/title/tt8772262/', '/title/tt13857556/', '/title/tt10403420/', '/title/tt7908628/', '/title/tt13841850/', '/title/tt6298000/', '/title/tt2494362/', '/title/tt5052448/', '/title/tt10954652/']\n"
     ]
    }
   ],
   "source": [
    "temp_page = list(scraper_object.pages.values())[0]\n",
    "\n",
    "test = [item.find_all('a')[0].attrs['href'] for item in temp_page.find_all(attrs={'class':'lister-item-header'})]\n",
    "\n",
    "\n",
    "print(test)\n"
   ]
  },
  {
   "cell_type": "code",
   "execution_count": 25,
   "id": "bb13b2d1",
   "metadata": {},
   "outputs": [
    {
     "data": {
      "text/plain": [
       "200"
      ]
     },
     "execution_count": 25,
     "metadata": {},
     "output_type": "execute_result"
    }
   ],
   "source": [
    "len(test)"
   ]
  },
  {
   "cell_type": "code",
   "execution_count": 39,
   "id": "f87b4ef8",
   "metadata": {},
   "outputs": [
    {
     "name": "stdout",
     "output_type": "stream",
     "text": [
      "['84 min', 'Horror']\n"
     ]
    }
   ],
   "source": [
    "#print(test[67])\n",
    "print(repr(test[68].replace('\\n', '').strip().split('|')))\n",
    "#print(test[69])\n",
    "#print(test[70])"
   ]
  },
  {
   "cell_type": "code",
   "execution_count": 40,
   "id": "86eab21a",
   "metadata": {},
   "outputs": [
    {
     "name": "stdout",
     "output_type": "stream",
     "text": [
      "['15', '24 min', 'Animation, Action, Adventure']\n"
     ]
    }
   ],
   "source": [
    "#print(test[63])\n",
    "print(repr(test[64].replace('\\n', '').strip().split('|')))\n",
    "#print(test[65])\n",
    "#print(test[66])"
   ]
  },
  {
   "cell_type": "code",
   "execution_count": 49,
   "id": "dd317f72",
   "metadata": {},
   "outputs": [
    {
     "name": "stdout",
     "output_type": "stream",
     "text": [
      "\n",
      "15\n",
      "|\n",
      "24 min\n",
      "|\n",
      "\n",
      "Animation, Action, Adventure            \n",
      "\n"
     ]
    }
   ],
   "source": [
    "print(test[64])"
   ]
  },
  {
   "cell_type": "code",
   "execution_count": null,
   "id": "91b6f999",
   "metadata": {},
   "outputs": [],
   "source": []
  }
 ],
 "metadata": {
  "kernelspec": {
   "display_name": "Python 3 (ipykernel)",
   "language": "python",
   "name": "python3"
  },
  "language_info": {
   "codemirror_mode": {
    "name": "ipython",
    "version": 3
   },
   "file_extension": ".py",
   "mimetype": "text/x-python",
   "name": "python",
   "nbconvert_exporter": "python",
   "pygments_lexer": "ipython3",
   "version": "3.9.13"
  }
 },
 "nbformat": 4,
 "nbformat_minor": 5
}
